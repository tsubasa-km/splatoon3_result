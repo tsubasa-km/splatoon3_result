{
  "cells": [
    {
      "cell_type": "markdown",
      "metadata": {
        "colab_type": "text",
        "id": "view-in-github"
      },
      "source": [
        "<a href=\"https://colab.research.google.com/github/tsubasa-km/splatoon3_result/blob/main/splatoon3.ipynb\" target=\"_parent\"><img src=\"https://colab.research.google.com/assets/colab-badge.svg\" alt=\"Open In Colab\"/></a>"
      ]
    },
    {
      "cell_type": "markdown",
      "metadata": {},
      "source": [
        "### データ取得"
      ]
    },
    {
      "cell_type": "code",
      "execution_count": 1,
      "metadata": {
        "colab": {
          "base_uri": "https://localhost:8080/"
        },
        "id": "csnmTV5Xrwq6",
        "outputId": "3155603b-b4f0-4fcc-e9e4-92cfc1aacd47"
      },
      "outputs": [
        {
          "name": "stdout",
          "output_type": "stream",
          "text": [
            "Screenshot_20241128_225658_Nintendo_Switch_Online.jpg already exists. Skipping download.\n",
            "spl.traineddata already exists. Skipping download.\n"
          ]
        }
      ],
      "source": [
        "import os\n",
        "\n",
        "files_to_download = [\n",
        "    {\n",
        "        \"url\": \"https://media.githubusercontent.com/media/tsubasa-km/splatoon3_result/refs/heads/main/splatoon3-results/Screenshot_20241128_225658_Nintendo%20Switch%20Online.jpg\",\n",
        "        \"filename\": \"Screenshot_20241128_225658_Nintendo_Switch_Online.jpg\"\n",
        "    },\n",
        "    {\n",
        "        \"url\": \"https://github.com/tsubasa-km/splatoon3_result/raw/refs/heads/main/spl.traineddata\",\n",
        "        \"filename\": \"spl.traineddata\"\n",
        "    }\n",
        "]\n",
        "\n",
        "for file in files_to_download:\n",
        "    if not os.path.exists(file[\"filename\"]):\n",
        "        print(f\"Downloading {file['filename']}...\")\n",
        "        os.system(f'wget \"{file[\"url\"]}\" -O {file[\"filename\"]}')\n",
        "    else:\n",
        "        print(f\"{file['filename']} already exists. Skipping download.\")\n"
      ]
    },
    {
      "cell_type": "code",
      "execution_count": 2,
      "metadata": {
        "id": "qPJKKAQom0_e"
      },
      "outputs": [],
      "source": [
        "SCREENSHOT_PATH = \"/content/Screenshot_20241128_225658_Nintendo Switch Online.jpg\""
      ]
    },
    {
      "cell_type": "markdown",
      "metadata": {
        "id": "hqp2AYe_06S5"
      },
      "source": [
        "### 円(武器アイコン)検出"
      ]
    },
    {
      "cell_type": "code",
      "execution_count": 3,
      "metadata": {
        "colab": {
          "base_uri": "https://localhost:8080/",
          "height": 211
        },
        "id": "DK1OPRcbZt9V",
        "outputId": "00f8c817-e3c0-4c97-874f-37df94dd6e7f"
      },
      "outputs": [
        {
          "ename": "TypeError",
          "evalue": "'NoneType' object is not subscriptable",
          "output_type": "error",
          "traceback": [
            "\u001b[0;31m---------------------------------------------------------------------------\u001b[0m",
            "\u001b[0;31mTypeError\u001b[0m                                 Traceback (most recent call last)",
            "\u001b[0;32m<ipython-input-3-ebbd9d18fedf>\u001b[0m in \u001b[0;36m<cell line: 8>\u001b[0;34m()\u001b[0m\n\u001b[1;32m      6\u001b[0m \u001b[0;31m# 画像の読み込み\u001b[0m\u001b[0;34m\u001b[0m\u001b[0;34m\u001b[0m\u001b[0m\n\u001b[1;32m      7\u001b[0m \u001b[0mimage\u001b[0m \u001b[0;34m=\u001b[0m \u001b[0mcv2\u001b[0m\u001b[0;34m.\u001b[0m\u001b[0mimread\u001b[0m\u001b[0;34m(\u001b[0m\u001b[0mSCREENSHOT_PATH\u001b[0m\u001b[0;34m)\u001b[0m\u001b[0;34m\u001b[0m\u001b[0;34m\u001b[0m\u001b[0m\n\u001b[0;32m----> 8\u001b[0;31m \u001b[0mimage\u001b[0m \u001b[0;34m=\u001b[0m \u001b[0mimage\u001b[0m\u001b[0;34m[\u001b[0m\u001b[0;36m300\u001b[0m\u001b[0;34m:\u001b[0m\u001b[0;34m-\u001b[0m\u001b[0;36m350\u001b[0m\u001b[0;34m,\u001b[0m\u001b[0;36m10\u001b[0m\u001b[0;34m:\u001b[0m\u001b[0;36m120\u001b[0m\u001b[0;34m]\u001b[0m\u001b[0;34m\u001b[0m\u001b[0;34m\u001b[0m\u001b[0m\n\u001b[0m\u001b[1;32m      9\u001b[0m \u001b[0mgray_image\u001b[0m \u001b[0;34m=\u001b[0m \u001b[0mcv2\u001b[0m\u001b[0;34m.\u001b[0m\u001b[0mcvtColor\u001b[0m\u001b[0;34m(\u001b[0m\u001b[0mimage\u001b[0m\u001b[0;34m,\u001b[0m \u001b[0mcv2\u001b[0m\u001b[0;34m.\u001b[0m\u001b[0mCOLOR_BGR2GRAY\u001b[0m\u001b[0;34m)\u001b[0m\u001b[0;34m\u001b[0m\u001b[0;34m\u001b[0m\u001b[0m\n\u001b[1;32m     10\u001b[0m \u001b[0;34m\u001b[0m\u001b[0m\n",
            "\u001b[0;31mTypeError\u001b[0m: 'NoneType' object is not subscriptable"
          ]
        }
      ],
      "source": [
        "import cv2\n",
        "import json\n",
        "import numpy as np\n",
        "import matplotlib.pyplot as plt\n",
        "\n",
        "# 画像の読み込み\n",
        "image = cv2.imread(SCREENSHOT_PATH)\n",
        "image = image[300:-350,10:120]\n",
        "gray_image = cv2.cvtColor(image, cv2.COLOR_BGR2GRAY)\n",
        "\n",
        "# Matplotlibで表示するためにRGBの並びに変更する\n",
        "rgb_image = cv2.cvtColor(image, cv2.COLOR_BGR2RGB)\n",
        "\n",
        "# ノイズ除去のためにぼかしを適用\n",
        "blurred = cv2.GaussianBlur(gray_image, (9, 9), 2)\n",
        "\n",
        "# 円の検出\n",
        "circles = cv2.HoughCircles(\n",
        "    blurred,\n",
        "    cv2.HOUGH_GRADIENT,\n",
        "    dp=1.2,\n",
        "    minDist=30\n",
        ")\n",
        "\n",
        "if circles is None:\n",
        "    raise ValueError(\"円が検出されませんでした。\")\n",
        "\n",
        "# 検出された円の描画\n",
        "circles = np.round(circles[0, :]).astype(\"int\")\n",
        "for (x, y, r) in circles:\n",
        "    cv2.circle(image, (x, y), r, (0, 255, 0), 2)\n",
        "    cv2.circle(image, (x, y), 2, (0, 0, 255), 3)\n",
        "# 円を保存\n",
        "with open(\"/content/weapon_pos.json\", \"w\") as f:\n",
        "    json.dump(\n",
        "        {\"weapons\":[{\"x\":int(c[0]), \"y\":int(c[1]), \"r\":int(c[2])} for c in circles]},\n",
        "        f,indent=4)\n",
        "\n",
        "\n",
        "# Matplotlibで表示するためにRGBの並びに変更する\n",
        "rgb_detected_image = cv2.cvtColor(image, cv2.COLOR_BGR2RGB)\n",
        "\n",
        "# 結果を表示\n",
        "plt.rcParams[\"figure.figsize\"] = [7,5]                                  # ウィンドウサイズを設定\n",
        "title = \"cv2.HoughCircles: codevace.com\"\n",
        "plt.figure(title)                                                       # ウィンドウタイトルを設定\n",
        "plt.subplots_adjust(left=0.05, right=0.95, bottom=0.03, top=0.95)       # 余白を設定\n",
        "\n",
        "plt.subplot(121)                                                        # 1行2列の1番目の領域にプロットを設定\n",
        "plt.imshow(rgb_image)                                                   # 入力画像を表示\n",
        "plt.title(\"Original Image\")                                             # 画像タイトル設定\n",
        "plt.axis(\"off\")                                                         # 軸目盛、軸ラベルを消す\n",
        "\n",
        "plt.subplot(122)                                                        # 1行2列の2番目の領域にプロットを設定\n",
        "plt.imshow(rgb_detected_image)                                          # ノイズ除去の結果\n",
        "plt.title(\"Detected Circles Image\")                                     # 画像タイトル設定\n",
        "plt.axis(\"off\")                                                         # 軸目盛、軸ラベルを消す\n",
        "\n",
        "plt.show()"
      ]
    },
    {
      "cell_type": "markdown",
      "metadata": {
        "id": "0gMNsW8_1Iaw"
      },
      "source": [
        "### KD検出"
      ]
    },
    {
      "cell_type": "markdown",
      "metadata": {
        "id": "OkKYCaSt9ZJB"
      },
      "source": [
        "インストール"
      ]
    },
    {
      "cell_type": "code",
      "execution_count": null,
      "metadata": {
        "id": "SfgnIJU05n7X"
      },
      "outputs": [],
      "source": [
        "!apt install tesseract-ocr libtesseract-dev tesseract-ocr-jpn\n",
        "!pip install pyocr\n",
        "!tesseract -list-langs"
      ]
    },
    {
      "cell_type": "markdown",
      "metadata": {
        "id": "yfhp5M7n9bfJ"
      },
      "source": [
        "前処理"
      ]
    },
    {
      "cell_type": "code",
      "execution_count": null,
      "metadata": {
        "id": "ovK9AA0tZuxI"
      },
      "outputs": [],
      "source": [
        "import numpy as np\n",
        "img = cv2.imread(SCREENSHOT_PATH,0)\n",
        "\n",
        "img = img[300:-350,-193:-25]\n",
        "img = cv2.cvtColor(img, cv2.COLOR_BGR2RGB)\n",
        "\n",
        "_,img = cv2.threshold(img, 80, 255, cv2.THRESH_BINARY)\n",
        "\n",
        "\n",
        "result = [\n",
        "    img[83:103,:],\n",
        "    img[181:201,:],\n",
        "    img[278:298,:],\n",
        "    img[376:396,:],\n",
        "    img[530:550,:],\n",
        "    img[627:647,:],\n",
        "    img[725:745,:],\n",
        "    img[822:842,:],\n",
        "]\n",
        "\n",
        "for i,r in enumerate(result):\n",
        "    plt.subplot(8,1,1+i)\n",
        "    plt.imshow(r)"
      ]
    },
    {
      "cell_type": "markdown",
      "metadata": {
        "id": "RrN0DgIl9f7Y"
      },
      "source": [
        "文字検出"
      ]
    },
    {
      "cell_type": "code",
      "execution_count": null,
      "metadata": {
        "id": "Zm3_ZzbfZuqI"
      },
      "outputs": [],
      "source": [
        "!sudo mv \"/content/spl.traineddata\" \"/usr/share/tesseract-ocr/4.00/tessdata\""
      ]
    },
    {
      "cell_type": "code",
      "execution_count": null,
      "metadata": {
        "id": "p0_62gyeZuun"
      },
      "outputs": [],
      "source": [
        "import pyocr\n",
        "from PIL import Image\n",
        "\n",
        "\n",
        "# OCRエンジンを取得\n",
        "engines = pyocr.get_available_tools()\n",
        "engine = engines[0]\n",
        "\n",
        "# 対応言語取得\n",
        "langs = engine.get_available_languages()\n",
        "print(\"対応言語:\",langs) # ['eng', 'jpn', 'osd', 'spl']\n",
        "for r in result:\n",
        "    txt = engine.image_to_string(Image.fromarray(r), lang=\"spl\")\n",
        "    print(txt)"
      ]
    },
    {
      "cell_type": "code",
      "execution_count": null,
      "metadata": {
        "id": "G3RF88wAZulw"
      },
      "outputs": [],
      "source": []
    },
    {
      "cell_type": "code",
      "execution_count": null,
      "metadata": {
        "id": "6s2lC7UUZujY"
      },
      "outputs": [],
      "source": []
    }
  ],
  "metadata": {
    "colab": {
      "authorship_tag": "ABX9TyPI1EzDHMGs3F6uqJRX312j",
      "include_colab_link": true,
      "provenance": []
    },
    "kernelspec": {
      "display_name": "Python 3",
      "name": "python3"
    },
    "language_info": {
      "name": "python"
    }
  },
  "nbformat": 4,
  "nbformat_minor": 0
}
